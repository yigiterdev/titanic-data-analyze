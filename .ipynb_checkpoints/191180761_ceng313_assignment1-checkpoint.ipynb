{
 "cells": [
  {
   "cell_type": "code",
   "execution_count": 1,
   "id": "886c4ef3-32c5-4b2d-a015-4f59dac884dc",
   "metadata": {},
   "outputs": [],
   "source": [
    "## Ahmet Bugra Yigiter - 191180761\n",
    "## Import necessary libraries for data science in Python\n",
    "import pandas as pd\n",
    "import numpy as np\n",
    "import seaborn as sns\n",
    "import matplotlib.pyplot as plt\n",
    "sns.set()"
   ]
  },
  {
   "cell_type": "code",
   "execution_count": 2,
   "id": "1464d89f-6a7c-42cf-8fff-3f0d6b9c03cc",
   "metadata": {},
   "outputs": [],
   "source": [
    "%matplotlib inline"
   ]
  },
  {
   "cell_type": "code",
   "execution_count": 3,
   "id": "d95bed96-f39b-474c-8838-f335fd8c1c1e",
   "metadata": {},
   "outputs": [],
   "source": [
    "## Read csv file from directory\n",
    "df_titanic=pd.read_csv(\"train.csv\")"
   ]
  },
  {
   "cell_type": "code",
   "execution_count": 4,
   "id": "cd01545e-e475-4583-848a-625b299cbd4c",
   "metadata": {},
   "outputs": [
    {
     "data": {
      "text/html": [
       "<div>\n",
       "<style scoped>\n",
       "    .dataframe tbody tr th:only-of-type {\n",
       "        vertical-align: middle;\n",
       "    }\n",
       "\n",
       "    .dataframe tbody tr th {\n",
       "        vertical-align: top;\n",
       "    }\n",
       "\n",
       "    .dataframe thead th {\n",
       "        text-align: right;\n",
       "    }\n",
       "</style>\n",
       "<table border=\"1\" class=\"dataframe\">\n",
       "  <thead>\n",
       "    <tr style=\"text-align: right;\">\n",
       "      <th></th>\n",
       "      <th>PassengerId</th>\n",
       "      <th>Survived</th>\n",
       "      <th>Pclass</th>\n",
       "      <th>Name</th>\n",
       "      <th>Sex</th>\n",
       "      <th>Age</th>\n",
       "      <th>SibSp</th>\n",
       "      <th>Parch</th>\n",
       "      <th>Ticket</th>\n",
       "      <th>Fare</th>\n",
       "      <th>Cabin</th>\n",
       "      <th>Embarked</th>\n",
       "    </tr>\n",
       "  </thead>\n",
       "  <tbody>\n",
       "    <tr>\n",
       "      <th>885</th>\n",
       "      <td>886</td>\n",
       "      <td>0</td>\n",
       "      <td>3</td>\n",
       "      <td>Rice, Mrs. William (Margaret Norton)</td>\n",
       "      <td>female</td>\n",
       "      <td>39.0</td>\n",
       "      <td>0</td>\n",
       "      <td>5</td>\n",
       "      <td>382652</td>\n",
       "      <td>29.125</td>\n",
       "      <td>NaN</td>\n",
       "      <td>Q</td>\n",
       "    </tr>\n",
       "    <tr>\n",
       "      <th>886</th>\n",
       "      <td>887</td>\n",
       "      <td>0</td>\n",
       "      <td>2</td>\n",
       "      <td>Montvila, Rev. Juozas</td>\n",
       "      <td>male</td>\n",
       "      <td>27.0</td>\n",
       "      <td>0</td>\n",
       "      <td>0</td>\n",
       "      <td>211536</td>\n",
       "      <td>13.000</td>\n",
       "      <td>NaN</td>\n",
       "      <td>S</td>\n",
       "    </tr>\n",
       "    <tr>\n",
       "      <th>887</th>\n",
       "      <td>888</td>\n",
       "      <td>1</td>\n",
       "      <td>1</td>\n",
       "      <td>Graham, Miss. Margaret Edith</td>\n",
       "      <td>female</td>\n",
       "      <td>19.0</td>\n",
       "      <td>0</td>\n",
       "      <td>0</td>\n",
       "      <td>112053</td>\n",
       "      <td>30.000</td>\n",
       "      <td>B42</td>\n",
       "      <td>S</td>\n",
       "    </tr>\n",
       "    <tr>\n",
       "      <th>888</th>\n",
       "      <td>889</td>\n",
       "      <td>0</td>\n",
       "      <td>3</td>\n",
       "      <td>Johnston, Miss. Catherine Helen \"Carrie\"</td>\n",
       "      <td>female</td>\n",
       "      <td>NaN</td>\n",
       "      <td>1</td>\n",
       "      <td>2</td>\n",
       "      <td>W./C. 6607</td>\n",
       "      <td>23.450</td>\n",
       "      <td>NaN</td>\n",
       "      <td>S</td>\n",
       "    </tr>\n",
       "    <tr>\n",
       "      <th>889</th>\n",
       "      <td>890</td>\n",
       "      <td>1</td>\n",
       "      <td>1</td>\n",
       "      <td>Behr, Mr. Karl Howell</td>\n",
       "      <td>male</td>\n",
       "      <td>26.0</td>\n",
       "      <td>0</td>\n",
       "      <td>0</td>\n",
       "      <td>111369</td>\n",
       "      <td>30.000</td>\n",
       "      <td>C148</td>\n",
       "      <td>C</td>\n",
       "    </tr>\n",
       "    <tr>\n",
       "      <th>890</th>\n",
       "      <td>891</td>\n",
       "      <td>0</td>\n",
       "      <td>3</td>\n",
       "      <td>Dooley, Mr. Patrick</td>\n",
       "      <td>male</td>\n",
       "      <td>32.0</td>\n",
       "      <td>0</td>\n",
       "      <td>0</td>\n",
       "      <td>370376</td>\n",
       "      <td>7.750</td>\n",
       "      <td>NaN</td>\n",
       "      <td>Q</td>\n",
       "    </tr>\n",
       "  </tbody>\n",
       "</table>\n",
       "</div>"
      ],
      "text/plain": [
       "     PassengerId  Survived  Pclass                                      Name  \\\n",
       "885          886         0       3      Rice, Mrs. William (Margaret Norton)   \n",
       "886          887         0       2                     Montvila, Rev. Juozas   \n",
       "887          888         1       1              Graham, Miss. Margaret Edith   \n",
       "888          889         0       3  Johnston, Miss. Catherine Helen \"Carrie\"   \n",
       "889          890         1       1                     Behr, Mr. Karl Howell   \n",
       "890          891         0       3                       Dooley, Mr. Patrick   \n",
       "\n",
       "        Sex   Age  SibSp  Parch      Ticket    Fare Cabin Embarked  \n",
       "885  female  39.0      0      5      382652  29.125   NaN        Q  \n",
       "886    male  27.0      0      0      211536  13.000   NaN        S  \n",
       "887  female  19.0      0      0      112053  30.000   B42        S  \n",
       "888  female   NaN      1      2  W./C. 6607  23.450   NaN        S  \n",
       "889    male  26.0      0      0      111369  30.000  C148        C  \n",
       "890    male  32.0      0      0      370376   7.750   NaN        Q  "
      ]
     },
     "execution_count": 4,
     "metadata": {},
     "output_type": "execute_result"
    }
   ],
   "source": [
    "## Question 1\n",
    "## List last 6 passengers on list. We can use tail here. In data structures,tail indicates the end of a array. With df_titanic.tail(6), we can indicate last 6 elements on list.\n",
    "df_titanic.tail(6)"
   ]
  },
  {
   "cell_type": "code",
   "execution_count": 5,
   "id": "8c1142e6-fa8e-4e0d-8695-a967870c72d4",
   "metadata": {},
   "outputs": [
    {
     "data": {
      "text/plain": [
       "PassengerId      int64\n",
       "Survived         int64\n",
       "Pclass           int64\n",
       "Name            object\n",
       "Sex             object\n",
       "Age            float64\n",
       "SibSp            int64\n",
       "Parch            int64\n",
       "Ticket          object\n",
       "Fare           float64\n",
       "Cabin           object\n",
       "Embarked        object\n",
       "dtype: object"
      ]
     },
     "execution_count": 5,
     "metadata": {},
     "output_type": "execute_result"
    }
   ],
   "source": [
    "## Question 2\n",
    "## Show list of attributes with their own types.\n",
    "df_titanic.dtypes"
   ]
  },
  {
   "cell_type": "code",
   "execution_count": 6,
   "id": "a89137a7-3bad-493e-a423-3b63014d0188",
   "metadata": {},
   "outputs": [
    {
     "data": {
      "text/plain": [
       "10692"
      ]
     },
     "execution_count": 6,
     "metadata": {},
     "output_type": "execute_result"
    }
   ],
   "source": [
    "## Question 3\n",
    "## Show size of dataset. We have 10692 different data.\n",
    "df_titanic.size"
   ]
  },
  {
   "cell_type": "code",
   "execution_count": 7,
   "id": "09a7cbcf-36be-44a4-a0a6-0a9cf9c47788",
   "metadata": {},
   "outputs": [
    {
     "data": {
      "text/plain": [
       "(891, 12)"
      ]
     },
     "execution_count": 7,
     "metadata": {},
     "output_type": "execute_result"
    }
   ],
   "source": [
    "## Question 3\n",
    "## Show shape of dataset. We have 891 rows and 12 columns in list.\n",
    "df_titanic.shape"
   ]
  },
  {
   "cell_type": "code",
   "execution_count": 8,
   "id": "da608cb1-5a3b-4413-8e75-df0deeea8b8a",
   "metadata": {},
   "outputs": [
    {
     "data": {
      "text/plain": [
       "PassengerId      0\n",
       "Survived         0\n",
       "Pclass           0\n",
       "Name             0\n",
       "Sex              0\n",
       "Age            177\n",
       "SibSp            0\n",
       "Parch            0\n",
       "Ticket           0\n",
       "Fare             0\n",
       "Cabin          687\n",
       "Embarked         2\n",
       "dtype: int64"
      ]
     },
     "execution_count": 8,
     "metadata": {},
     "output_type": "execute_result"
    }
   ],
   "source": [
    "## Question 4\n",
    "## Show how many missing values for attributes. In here and rest of the code sum() is direct to total. isnull() is return boolean variable (true or false) and give us information about is cell null or not.\n",
    "df_titanic.isnull().sum()"
   ]
  },
  {
   "cell_type": "code",
   "execution_count": 9,
   "id": "2a9861c2-826e-4089-bded-483a1e7f2700",
   "metadata": {},
   "outputs": [
    {
     "data": {
      "text/plain": [
       "PassengerId      0\n",
       "Survived         0\n",
       "Pclass           0\n",
       "Name             0\n",
       "Sex              0\n",
       "Age              0\n",
       "SibSp            0\n",
       "Parch            0\n",
       "Ticket           0\n",
       "Fare             0\n",
       "Cabin          687\n",
       "Embarked         2\n",
       "dtype: int64"
      ]
     },
     "execution_count": 9,
     "metadata": {},
     "output_type": "execute_result"
    }
   ],
   "source": [
    "## Question 4\n",
    "## As mentioned on homework file, rest of the homework, we need Age values for some questions like Q18-Q19 and we need fill missing values for Age.\n",
    "df_titanic=df_titanic.interpolate()\n",
    "df_titanic.isnull().sum()"
   ]
  },
  {
   "cell_type": "code",
   "execution_count": 10,
   "id": "45ea266e-38be-4f6f-adf0-b18ec5cfbf68",
   "metadata": {},
   "outputs": [
    {
     "data": {
      "image/png": "[encoded data removed]",
      "text/plain": [
       "<Figure size 432x288 with 1 Axes>"
      ]
     },
     "metadata": {},
     "output_type": "display_data"
    }
   ],
   "source": [
    "## Question 5\n",
    "## We take first_class,second_class and third_class passangers size here.\n",
    "first_class = (df_titanic.Pclass==1).sum()\n",
    "second_class = (df_titanic.Pclass==2).sum()\n",
    "third_class = (df_titanic.Pclass==3).sum()\n",
    "\n",
    "## We give this sizes to proportions array for show pie chart.\n",
    "proportions=[first_class,second_class,third_class]\n",
    "\n",
    "## We use pyplot library for create pie chart with given proportions\n",
    "plt.pie(\n",
    "    \n",
    "    proportions,\n",
    "    \n",
    "    labels=['First Class','Second Class', 'Third Class'],\n",
    "    \n",
    "    shadow=False,\n",
    "    \n",
    "    colors=['blue','red','green'],\n",
    "    \n",
    "    autopct= ' %1.1f%% ' \n",
    "   \n",
    ")\n",
    "\n",
    "plt.axis('equal')\n",
    "plt.title(\"Class off the passengers\")\n",
    "\n",
    "plt.tight_layout()\n",
    "plt.show()\n",
    "\n",
    "# In conclusion, Third Class has most passengers with 55.1% percentage. After that first class with 24.2% percentage, last second class with 20.7%."
   ]
  },
  {
   "cell_type": "code",
   "execution_count": 11,
   "id": "74ea8b5e-b150-4f51-ba74-7b285056b051",
   "metadata": {},
   "outputs": [
    {
     "data": {
      "text/plain": [
       "Text(0.5, 1.0, '0 = Not Survive, 1 = Survived')"
      ]
     },
     "execution_count": 11,
     "metadata": {},
     "output_type": "execute_result"
    },
    {
     "data": {
      "image/png": "[encoded data removed]",
      "text/plain": [
       "<Figure size 432x288 with 1 Axes>"
      ]
     },
     "metadata": {
      "needs_background": "light"
     },
     "output_type": "display_data"
    }
   ],
   "source": [
    "## Question 6\n",
    "## We take survived columns value_counts its returns how many passengers with 0 value and how many passengers with 1 value. 0 direct to not-survived and 1 direct to survived here. And we used this date for show bar chart with pyplot library.\n",
    "df_titanic.Survived.value_counts().plot(kind='bar')\n",
    "plt.title(\"0 = Not Survive, 1 = Survived\")\n",
    "## In conclusion, We have Survived (1) and not survive (0) passengers. Not survive passangers are most with 542 and survived passengers number are 342."
   ]
  },
  {
   "cell_type": "code",
   "execution_count": 12,
   "id": "6db57f10-0fc5-48b1-bb5c-e43484fbb2b6",
   "metadata": {},
   "outputs": [
    {
     "data": {
      "image/png": "[encoded data removed]",
      "text/plain": [
       "<Figure size 432x288 with 1 Axes>"
      ]
     },
     "metadata": {},
     "output_type": "display_data"
    },
    {
     "data": {
      "image/png": "[encoded data removed]",
      "text/plain": [
       "<Figure size 432x288 with 1 Axes>"
      ]
     },
     "metadata": {},
     "output_type": "display_data"
    },
    {
     "data": {
      "image/png": "[encoded data removed]",
      "text/plain": [
       "<Figure size 432x288 with 1 Axes>"
      ]
     },
     "metadata": {},
     "output_type": "display_data"
    }
   ],
   "source": [
    "## Question 7\n",
    "## In here, we get data size of survived and not-survived passengers in 1st class.\n",
    "first_class_not_survived = df_titanic[(df_titanic.Survived==0) & (df_titanic.Pclass==1)].Pclass.sum()\n",
    "first_class_survived = df_titanic[(df_titanic.Survived==1) & (df_titanic.Pclass==1)].Pclass.sum()\n",
    "\n",
    "## And create proportions array with not-survived and survived first class passengers.\n",
    "first_class_proportions=[first_class_not_survived,first_class_survived]\n",
    "\n",
    "## We give this sizes to proportions array for show pie chart.\n",
    "plt.pie(\n",
    "    \n",
    "    first_class_proportions,\n",
    "    \n",
    "    labels=['Not Survived','Survived'],\n",
    "    \n",
    "    shadow=False,\n",
    "    \n",
    "    colors=['blue','red'],\n",
    "    \n",
    "    autopct= ' %1.1f%% ' \n",
    "   \n",
    ")\n",
    "\n",
    "plt.axis('equal')\n",
    "plt.title(\"First Class\")\n",
    "\n",
    "plt.tight_layout()\n",
    "plt.show()\n",
    "\n",
    "second_class_not_survived = df_titanic[(df_titanic.Survived==0) & (df_titanic.Pclass==2)].Pclass.sum()\n",
    "second_class_survived = df_titanic[(df_titanic.Survived==1) & (df_titanic.Pclass==2)].Pclass.sum()\n",
    "\n",
    "second_class_proportions=[second_class_not_survived,second_class_survived]\n",
    "\n",
    "plt.pie(\n",
    "    \n",
    "    second_class_proportions,\n",
    "    \n",
    "    labels=['Not Survived','Survived'],\n",
    "    \n",
    "    shadow=False,\n",
    "    \n",
    "    colors=['blue','red'],\n",
    "    \n",
    "    autopct= ' %1.1f%% ' \n",
    "   \n",
    ")\n",
    "\n",
    "plt.axis('equal')\n",
    "plt.title(\"Second Class\")\n",
    "\n",
    "plt.tight_layout()\n",
    "plt.show()\n",
    "\n",
    "third_class_not_survived = df_titanic[(df_titanic.Survived==0) & (df_titanic.Pclass==3)].Pclass.sum()\n",
    "third_class_survived = df_titanic[(df_titanic.Survived==1) & (df_titanic.Pclass==3)].Pclass.sum()\n",
    "\n",
    "third_class_proportions=[third_class_not_survived,third_class_survived]\n",
    "\n",
    "plt.pie(\n",
    "    \n",
    "    third_class_proportions,\n",
    "    \n",
    "    labels=['Not Survived','Survived'],\n",
    "    \n",
    "    shadow=False,\n",
    "    \n",
    "    colors=['blue','red'],\n",
    "    \n",
    "    autopct= ' %1.1f%% ' \n",
    "   \n",
    ")\n",
    "\n",
    "plt.axis('equal')\n",
    "plt.title(\"Third Class\")\n",
    "\n",
    "plt.tight_layout()\n",
    "plt.show()\n",
    "\n",
    "## We have 3 pie charts which include first class, second class and third class passengers's survival rate. In conclusion, First class passengers have highest survival rate and third class passengers have lowest survival rate. \n",
    "## This may be because more precautions were taken for the first class passengers or because the first class passengers were rescued earlier after the accident."
   ]
  },
  {
   "cell_type": "code",
   "execution_count": 13,
   "id": "eba876f2-188b-4f8a-b7a6-1988960fe4e5",
   "metadata": {},
   "outputs": [
    {
     "data": {
      "text/plain": [
       "<AxesSubplot:xlabel='Pclass', ylabel='Survived'>"
      ]
     },
     "execution_count": 13,
     "metadata": {},
     "output_type": "execute_result"
    },
    {
     "data": {
      "image/png": "[encoded data removed]",
      "text/plain": [
       "<Figure size 432x288 with 1 Axes>"
      ]
     },
     "metadata": {
      "needs_background": "light"
     },
     "output_type": "display_data"
    }
   ],
   "source": [
    "## Question8\n",
    "sns.barplot(x='Pclass', y='Survived', data=df_titanic)\n",
    "\n",
    "## In conclusion, first class passengers have highest survival rate. This may be because more precautions were taken for the first class passengers or because the first class passengers were rescued earlier after the accident."
   ]
  },
  {
   "cell_type": "code",
   "execution_count": 14,
   "id": "c32b4de1-2004-480b-8e2d-536467024c41",
   "metadata": {},
   "outputs": [
    {
     "data": {
      "text/html": [
       "<div>\n",
       "<style scoped>\n",
       "    .dataframe tbody tr th:only-of-type {\n",
       "        vertical-align: middle;\n",
       "    }\n",
       "\n",
       "    .dataframe tbody tr th {\n",
       "        vertical-align: top;\n",
       "    }\n",
       "\n",
       "    .dataframe thead th {\n",
       "        text-align: right;\n",
       "    }\n",
       "</style>\n",
       "<table border=\"1\" class=\"dataframe\">\n",
       "  <thead>\n",
       "    <tr style=\"text-align: right;\">\n",
       "      <th>Survived</th>\n",
       "      <th>0</th>\n",
       "      <th>1</th>\n",
       "      <th>All</th>\n",
       "    </tr>\n",
       "    <tr>\n",
       "      <th>Sex</th>\n",
       "      <th></th>\n",
       "      <th></th>\n",
       "      <th></th>\n",
       "    </tr>\n",
       "  </thead>\n",
       "  <tbody>\n",
       "    <tr>\n",
       "      <th>female</th>\n",
       "      <td>81</td>\n",
       "      <td>233</td>\n",
       "      <td>314</td>\n",
       "    </tr>\n",
       "    <tr>\n",
       "      <th>male</th>\n",
       "      <td>468</td>\n",
       "      <td>109</td>\n",
       "      <td>577</td>\n",
       "    </tr>\n",
       "    <tr>\n",
       "      <th>All</th>\n",
       "      <td>549</td>\n",
       "      <td>342</td>\n",
       "      <td>891</td>\n",
       "    </tr>\n",
       "  </tbody>\n",
       "</table>\n",
       "</div>"
      ],
      "text/plain": [
       "Survived    0    1  All\n",
       "Sex                    \n",
       "female     81  233  314\n",
       "male      468  109  577\n",
       "All       549  342  891"
      ]
     },
     "execution_count": 14,
     "metadata": {},
     "output_type": "execute_result"
    }
   ],
   "source": [
    "## Question 9\n",
    "pd.crosstab(df_titanic.Sex,df_titanic.Survived, margins=True)\n",
    "\n",
    "## Male passengers have lowest numbers of survivors. This may have arisen because women were given priority in rescue efforts."
   ]
  },
  {
   "cell_type": "code",
   "execution_count": 15,
   "id": "ea3bf28e-1968-4b8e-baf0-899bc68be233",
   "metadata": {},
   "outputs": [
    {
     "data": {
      "text/plain": [
       "<AxesSubplot:xlabel='Embarked', ylabel='count'>"
      ]
     },
     "execution_count": 15,
     "metadata": {},
     "output_type": "execute_result"
    },
    {
     "data": {
      "image/png": "[encoded data removed]",
      "text/plain": [
       "<Figure size 432x288 with 1 Axes>"
      ]
     },
     "metadata": {
      "needs_background": "light"
     },
     "output_type": "display_data"
    }
   ],
   "source": [
    "## Question 10\n",
    "sns.countplot(x='Embarked', hue='Survived',data=df_titanic)\n",
    "\n",
    "## Passengers embarking from the port of Cherbourg constitute the majority of the passengers. And also the most surviving passenger is embarking from the port of Cherbourg."
   ]
  },
  {
   "cell_type": "code",
   "execution_count": 16,
   "id": "155ad95e-a810-46b8-bad4-a7474172e6b8",
   "metadata": {},
   "outputs": [
    {
     "data": {
      "text/html": [
       "<div>\n",
       "<style scoped>\n",
       "    .dataframe tbody tr th:only-of-type {\n",
       "        vertical-align: middle;\n",
       "    }\n",
       "\n",
       "    .dataframe tbody tr th {\n",
       "        vertical-align: top;\n",
       "    }\n",
       "\n",
       "    .dataframe thead th {\n",
       "        text-align: right;\n",
       "    }\n",
       "</style>\n",
       "<table border=\"1\" class=\"dataframe\">\n",
       "  <thead>\n",
       "    <tr style=\"text-align: right;\">\n",
       "      <th></th>\n",
       "      <th>AgeGroup</th>\n",
       "      <th>child</th>\n",
       "      <th>adult</th>\n",
       "      <th>old</th>\n",
       "      <th>All</th>\n",
       "    </tr>\n",
       "    <tr>\n",
       "      <th>Sex</th>\n",
       "      <th>Survived</th>\n",
       "      <th></th>\n",
       "      <th></th>\n",
       "      <th></th>\n",
       "      <th></th>\n",
       "    </tr>\n",
       "  </thead>\n",
       "  <tbody>\n",
       "    <tr>\n",
       "      <th rowspan=\"2\" valign=\"top\">female</th>\n",
       "      <th>0</th>\n",
       "      <td>22</td>\n",
       "      <td>59</td>\n",
       "      <td>0</td>\n",
       "      <td>81</td>\n",
       "    </tr>\n",
       "    <tr>\n",
       "      <th>1</th>\n",
       "      <td>50</td>\n",
       "      <td>180</td>\n",
       "      <td>3</td>\n",
       "      <td>233</td>\n",
       "    </tr>\n",
       "    <tr>\n",
       "      <th rowspan=\"2\" valign=\"top\">male</th>\n",
       "      <th>0</th>\n",
       "      <td>64</td>\n",
       "      <td>386</td>\n",
       "      <td>18</td>\n",
       "      <td>468</td>\n",
       "    </tr>\n",
       "    <tr>\n",
       "      <th>1</th>\n",
       "      <td>28</td>\n",
       "      <td>79</td>\n",
       "      <td>2</td>\n",
       "      <td>109</td>\n",
       "    </tr>\n",
       "    <tr>\n",
       "      <th>All</th>\n",
       "      <th></th>\n",
       "      <td>164</td>\n",
       "      <td>704</td>\n",
       "      <td>23</td>\n",
       "      <td>891</td>\n",
       "    </tr>\n",
       "  </tbody>\n",
       "</table>\n",
       "</div>"
      ],
      "text/plain": [
       "AgeGroup         child  adult  old  All\n",
       "Sex    Survived                        \n",
       "female 0            22     59    0   81\n",
       "       1            50    180    3  233\n",
       "male   0            64    386   18  468\n",
       "       1            28     79    2  109\n",
       "All                164    704   23  891"
      ]
     },
     "execution_count": 16,
     "metadata": {},
     "output_type": "execute_result"
    }
   ],
   "source": [
    "## Question11\n",
    "df_titanic['AgeGroup'] = pd.cut(x=df_titanic['Age'], bins=[0, 18, 60, 100], labels=['child', 'adult','old'])\n",
    "pd.crosstab([df_titanic.Sex, df_titanic.Survived],df_titanic.AgeGroup, margins=True)\n",
    "\n",
    "## Child has most survival rate than others. This may have arisen because childs were given priority in rescue efforts."
   ]
  },
  {
   "cell_type": "code",
   "execution_count": 17,
   "id": "2ca3a6bd-ccd3-43e6-b45a-0b812cffe579",
   "metadata": {},
   "outputs": [
    {
     "data": {
      "text/plain": [
       "<AxesSubplot:>"
      ]
     },
     "execution_count": 17,
     "metadata": {},
     "output_type": "execute_result"
    },
    {
     "data": {
      "image/png": "[encoded data removed]",
      "text/plain": [
       "<Figure size 432x288 with 2 Axes>"
      ]
     },
     "metadata": {
      "needs_background": "light"
     },
     "output_type": "display_data"
    }
   ],
   "source": [
    "## Question 12\n",
    "heatmap_dataset = df_titanic\n",
    "corr = heatmap_dataset.corr()\n",
    "sns.heatmap(corr, annot=True)"
   ]
  },
  {
   "cell_type": "code",
   "execution_count": 18,
   "id": "9cac1ae6-6e6d-4fd4-bd03-35d6d1e76e39",
   "metadata": {},
   "outputs": [
    {
     "data": {
      "text/plain": [
       "'Mr'"
      ]
     },
     "execution_count": 18,
     "metadata": {},
     "output_type": "execute_result"
    }
   ],
   "source": [
    "## Question13\n",
    "df_titanic['Title'] = df_titanic.Name.str.extract(' ([A-Za-z]+)\\.', expand=False)\n",
    "df_titanic['Title'].mode()[0]\n",
    "\n",
    "## Most commonly used title is 'MR' in passengers."
   ]
  },
  {
   "cell_type": "code",
   "execution_count": 19,
   "id": "325699c1-01f9-43fd-8bda-69cd20d19ef0",
   "metadata": {},
   "outputs": [
    {
     "data": {
      "text/plain": [
       "Mr          517\n",
       "Miss        182\n",
       "Mrs         125\n",
       "Master       40\n",
       "Dr            7\n",
       "Rev           6\n",
       "Mlle          2\n",
       "Major         2\n",
       "Col           2\n",
       "Mme           1\n",
       "Don           1\n",
       "Ms            1\n",
       "Lady          1\n",
       "Countess      1\n",
       "Capt          1\n",
       "Jonkheer      1\n",
       "Sir           1\n",
       "Name: Title, dtype: int64"
      ]
     },
     "execution_count": 19,
     "metadata": {},
     "output_type": "execute_result"
    }
   ],
   "source": [
    "## Question14 \n",
    "df_titanic['Title'].value_counts()\n",
    "\n",
    "## This list shows all titles and usage counts for passengers."
   ]
  },
  {
   "cell_type": "code",
   "execution_count": 20,
   "id": "ce47bcdd-84c6-4e81-8474-00f0fc8828fa",
   "metadata": {},
   "outputs": [
    {
     "data": {
      "text/plain": [
       "29.726060606060603"
      ]
     },
     "execution_count": 20,
     "metadata": {},
     "output_type": "execute_result"
    }
   ],
   "source": [
    "## Question15\n",
    "df_titanic['Age'].mean()\n",
    "\n",
    "## This number shows average age of passengers. The average is 29.72."
   ]
  },
  {
   "cell_type": "code",
   "execution_count": 21,
   "id": "e2e84ec6-6b3b-47e2-b10a-91f5439470d1",
   "metadata": {},
   "outputs": [
    {
     "data": {
      "text/plain": [
       "<AxesSubplot:xlabel='Survived', ylabel='Age'>"
      ]
     },
     "execution_count": 21,
     "metadata": {},
     "output_type": "execute_result"
    },
    {
     "data": {
      "image/png": "[encoded data removed]",
      "text/plain": [
       "<Figure size 432x288 with 1 Axes>"
      ]
     },
     "metadata": {
      "needs_background": "light"
     },
     "output_type": "display_data"
    }
   ],
   "source": [
    "## Question16\n",
    "sns.pointplot(x=\"Survived\", y=\"Age\", data=df_titanic)"
   ]
  },
  {
   "cell_type": "code",
   "execution_count": 22,
   "id": "f9b9a6cb-a701-451f-b98b-f15f2841a966",
   "metadata": {},
   "outputs": [
    {
     "data": {
      "text/plain": [
       "80.0"
      ]
     },
     "execution_count": 22,
     "metadata": {},
     "output_type": "execute_result"
    }
   ],
   "source": [
    "## Question17\n",
    "df_titanic[(df_titanic.Survived==1)].Age.max()\n",
    "\n",
    "## This number shows the age of the oldest person among the passengers."
   ]
  },
  {
   "cell_type": "code",
   "execution_count": 23,
   "id": "a7313d86-2b44-4e04-8116-7cd4709d286d",
   "metadata": {},
   "outputs": [
    {
     "data": {
      "image/png": "[encoded data removed]",
      "text/plain": [
       "<Figure size 432x288 with 1 Axes>"
      ]
     },
     "metadata": {},
     "output_type": "display_data"
    },
    {
     "data": {
      "image/png": "[encoded data removed]",
      "text/plain": [
       "<Figure size 432x288 with 1 Axes>"
      ]
     },
     "metadata": {},
     "output_type": "display_data"
    },
    {
     "data": {
      "image/png": "[encoded data removed]",
      "text/plain": [
       "<Figure size 432x288 with 1 Axes>"
      ]
     },
     "metadata": {},
     "output_type": "display_data"
    }
   ],
   "source": [
    "## Question18 & Question19\n",
    "\n",
    "## The technical part of what I did in this question is almost the same as in question 7.\n",
    "\n",
    "adult = df_titanic[(df_titanic['AgeGroup'] == 'adult')].Survived.sum()\n",
    "child = df_titanic[(df_titanic['AgeGroup'] == 'child')].Survived.sum()\n",
    "old = df_titanic[(df_titanic['AgeGroup'] == 'old')].Survived.sum()\n",
    "not_survived_adult = len(df_titanic[(df_titanic['AgeGroup'] == 'adult')]) - adult\n",
    "not_survived_child = len(df_titanic[(df_titanic['AgeGroup'] == 'child')]) - child\n",
    "not_survived_old = len(df_titanic[(df_titanic['AgeGroup'] == 'old')]) - old\n",
    "\n",
    "\n",
    "adult_proportions=[adult,not_survived_adult]\n",
    "plt.pie(\n",
    "    \n",
    "    adult_proportions,\n",
    "    \n",
    "    labels=['Survived','Not Survived'],\n",
    "    \n",
    "    shadow=False,\n",
    "    \n",
    "    colors=['blue','red'],\n",
    "    \n",
    "    autopct= ' %1.1f%% ' \n",
    "   \n",
    ")\n",
    "\n",
    "plt.axis('equal')\n",
    "plt.title(\"Adult\")\n",
    "\n",
    "plt.tight_layout()\n",
    "plt.show()\n",
    "\n",
    "old_proportions=[old,not_survived_old]\n",
    "plt.pie(\n",
    "    \n",
    "    old_proportions,\n",
    "    \n",
    "    labels=['Survived','Not Survived'],\n",
    "    \n",
    "    shadow=False,\n",
    "    \n",
    "    colors=['blue','red'],\n",
    "    \n",
    "    autopct= ' %1.1f%% ' \n",
    "   \n",
    ")\n",
    "\n",
    "plt.axis('equal')\n",
    "plt.title(\"Old\")\n",
    "\n",
    "plt.tight_layout()\n",
    "plt.show()\n",
    "\n",
    "child_proportions=[child,not_survived_child]\n",
    "plt.pie(\n",
    "    \n",
    "    child_proportions,\n",
    "    \n",
    "    labels=['Survived','Not Survived'],\n",
    "    \n",
    "    shadow=False,\n",
    "    \n",
    "    colors=['blue','red'],\n",
    "    \n",
    "    autopct= ' %1.1f%% ' \n",
    "   \n",
    ")\n",
    "\n",
    "plt.axis('equal')\n",
    "plt.title(\"Child\")\n",
    "\n",
    "plt.tight_layout()\n",
    "plt.show()\n",
    "\n",
    "## In conclusion, child has most survival rate than other passengers. As I explained in other questions, this may be because they are rescued first. And olds have lowest survival rate than other passengers. \n",
    "## Since this was a major accident, the elderly passengers may have endured the severity of this accident or may have died from situations such as a heart attack in such a panic environment.\n",
    "## The survival rate of children is almost half."
   ]
  },
  {
   "cell_type": "code",
   "execution_count": 24,
   "id": "018fb722-6e67-42da-8290-5e1ba8386f4c",
   "metadata": {},
   "outputs": [
    {
     "data": {
      "text/plain": [
       "8"
      ]
     },
     "execution_count": 24,
     "metadata": {},
     "output_type": "execute_result"
    }
   ],
   "source": [
    "## Question20\n",
    "df_titanic['SibSp'].max()\n",
    "\n",
    "## This number shows the number of siblings of the passengers who have the most siblings."
   ]
  },
  {
   "cell_type": "code",
   "execution_count": null,
   "id": "81fed4d1-b80f-48b8-8073-be4ae6f934e3",
   "metadata": {},
   "outputs": [],
   "source": []
  }
 ],
 "metadata": {
  "kernelspec": {
   "display_name": "Python 3",
   "language": "python",
   "name": "python3"
  },
  "language_info": {
   "codemirror_mode": {
    "name": "ipython",
    "version": 3
   },
   "file_extension": ".py",
   "mimetype": "text/x-python",
   "name": "python",
   "nbconvert_exporter": "python",
   "pygments_lexer": "ipython3",
   "version": "3.8.8"
  }
 },
 "nbformat": 4,
 "nbformat_minor": 5
}
